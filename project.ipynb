{
 "cells": [
  {
   "cell_type": "code",
   "execution_count": 1,
   "metadata": {},
   "outputs": [],
   "source": [
    "# Clones repository, installs dsf, and downloads full json files (~9Gb), installs dependecies assuming pip is being used\n",
    "# !git clone https://github.com/NAIST-SE/DevGPT/tree/main\n",
    "# !git dsf install\n",
    "# !git dsf pull\n",
    "#!pip install pandas numpy matplotlib torch torchtext nltk scikit-learn"
   ]
  },
  {
   "cell_type": "code",
   "execution_count": 2,
   "metadata": {},
   "outputs": [],
   "source": [
    "import pandas as pd\n",
    "import numpy as np\n",
    "import matplotlib.pyplot as plt\n",
    "import os, json\n",
    "from collections import Counter\n",
    "import torch\n",
    "import torch.nn as nn\n",
    "import torch.nn.functional as F\n",
    "import torch.optim as optim\n",
    "from sklearn.model_selection import train_test_split\n",
    "\n",
    "# Directory that snapshots are stored in\n",
    "DATA_DIRECTORY = 'DevGPT'"
   ]
  },
  {
   "cell_type": "code",
   "execution_count": 3,
   "metadata": {},
   "outputs": [
    {
     "name": "stdout",
     "output_type": "stream",
     "text": [
      "[('break', 3707), ('const', 234), ('student', 187), ('<li><a', 168), ('import', 147), ('environment>', 144), ('function', 139), ('none;', 137), ('display:', 136), ('20px;', 127), ('photoelectric', 112), ('padding:', 106), ('.container', 105), ('create', 96), ('<sep>', 88), ('using', 85), ('inherit;', 84), ('margin:', 84), ('energy', 80), ('[begin]', 80)]\n"
     ]
    }
   ],
   "source": [
    "df = pd.DataFrame()\n",
    "\n",
    "# for each snapshot\n",
    "for directory in os.listdir(DATA_DIRECTORY):\n",
    "    snapshot_directory = os.path.join(DATA_DIRECTORY, directory)\n",
    "\n",
    "    # Is this a file or a directory?\n",
    "    if os.path.isdir(snapshot_directory):\n",
    "\n",
    "        # find json file names within directory\n",
    "        json_files = []\n",
    "        for file in os.listdir(snapshot_directory):\n",
    "            if file.endswith('.json'):\n",
    "                json_files.append(file)\n",
    "\n",
    "        # for each json file in snapshot\n",
    "        for json_file in json_files:\n",
    "            json_file_path = os.path.join(snapshot_directory, json_file)\n",
    "            \n",
    "            # read json file\n",
    "            with open(json_file_path, 'r', encoding='utf-8') as file:\n",
    "                json_data = json.load(file)\n",
    "            \n",
    "            # create features for objects within \"ChatgptSharing\"\n",
    "            json_df = pd.json_normalize(json_data['Sources'][0]['ChatgptSharing'])\n",
    "\n",
    "            # add to dataframe\n",
    "            df = pd.concat([df, json_df])\n",
    "\n",
    "\n",
    "# easy exploring of question 1\n",
    "prompts = ''\n",
    "for conversation in df['Conversations']:\n",
    "    for prompt_answer_pairs in conversation:\n",
    "            prompts += ' ' + prompt_answer_pairs['Prompt']\n",
    "            \n",
    "len(prompts)\n",
    "\n",
    "# \"words\" to exclude based on me running this initially\n",
    "excluded_words = set(['0|mindful', 'from', 'your'])\n",
    "\n",
    "# Take prompts with stop word filtered and display the 20 most common\n",
    "filtered_prompts = [word.lower() for word in prompts.split() if (word.lower() not in excluded_words) and (len(word) > 4)]\n",
    "c = Counter(filtered_prompts) \n",
    "most_common = c.most_common(20) \n",
    "  \n",
    "print(most_common)\n",
    "\n"
   ]
  },
  {
   "cell_type": "code",
   "execution_count": 4,
   "metadata": {},
   "outputs": [],
   "source": [
    "# Prepareing Data for Question 7\n",
    "\n",
    "df = pd.DataFrame()\n",
    "temo_df = pd.DataFrame()\n",
    "\n",
    "# for each snapshot\n",
    "for directory in os.listdir(DATA_DIRECTORY):\n",
    "    snapshot_directory = os.path.join(DATA_DIRECTORY, directory)\n",
    "\n",
    "\n",
    "    # Is this a file or a directory?\n",
    "    if os.path.isdir(snapshot_directory):\n",
    "\n",
    "        # find json file names within directory\n",
    "        json_files = []\n",
    "        for file in os.listdir(snapshot_directory):\n",
    "            if file.endswith('.json'):\n",
    "                json_files.append(file)\n",
    "\n",
    "        # for each json file in snapshot\n",
    "        for json_file in json_files:\n",
    "            json_file_path = os.path.join(snapshot_directory, json_file)\n",
    "            conversation_lengths, conversation_prompts = [],[]\n",
    "            temp_df = pd.DataFrame()\n",
    "            \n",
    "            # load json file\n",
    "            with open(json_file_path, 'r', encoding='utf-8') as file:\n",
    "                json_data = json.load(file)\n",
    "            \n",
    "            # gather conversations the get length and initial prompt to load into dataframe\n",
    "            for i in range(len(json_data['Sources'])):\n",
    "                if 'Conversations' in json_data['Sources'][i]['ChatgptSharing'][0]:\n",
    "                    conversations = json_data['Sources'][i]['ChatgptSharing'][0]['Conversations']\n",
    "                    conversation_lengths.append(len(conversations))\n",
    "                    conversation_prompts.append(conversations[0]['Prompt'])\n",
    "\n",
    "            temp_df['Conversation Length'] = conversation_lengths\n",
    "            temp_df['Prompt'] = conversation_prompts\n",
    "            df = pd.concat([df, temp_df], axis=0, ignore_index=True)\n",
    "\n",
    "# shuffle dataframe\n",
    "df = df.sample(frac=1)          "
   ]
  },
  {
   "cell_type": "code",
   "execution_count": 5,
   "metadata": {},
   "outputs": [
    {
     "data": {
      "text/plain": [
       "Text(0, 0.5, 'Prompt Length')"
      ]
     },
     "execution_count": 5,
     "metadata": {},
     "output_type": "execute_result"
    },
    {
     "data": {
      "image/png": "[encoded data removed]",
      "text/plain": [
       "<Figure size 640x480 with 1 Axes>"
      ]
     },
     "metadata": {},
     "output_type": "display_data"
    }
   ],
   "source": [
    "# Create new column for prompt character length\n",
    "df['Prompt Length'] = df['Prompt'].apply(len)\n",
    "lengths = []\n",
    "for index, prompt in df.iterrows():\n",
    "    lengths.append(len(prompt['Prompt']))\n",
    "\n",
    "\n",
    "plt.scatter(df[\"Conversation Length\"], df['Prompt Length'])\n",
    "\n",
    "plt.xlabel(\"Conversation Length\")\n",
    "plt.ylabel(\"Prompt Length\")"
   ]
  },
  {
   "cell_type": "code",
   "execution_count": 6,
   "metadata": {},
   "outputs": [],
   "source": [
    "# My attempt at the model\n",
    "class NLP_Model(nn.Module):\n",
    "    def __init__(self, vocabulary_size, hidden_layer_dimension, maximum_imbedding_length):\n",
    "        super(NLP_Model, self).__init__()\n",
    "        self.embedding = nn.Embedding(vocabulary_size, 5, padding_idx=0)\n",
    "        self.fc = nn.Sequential(\n",
    "            nn.Flatten(),\n",
    "            nn.Linear(maximum_imbedding_length * 5, hidden_layer_dimension),\n",
    "            nn.ReLU(),\n",
    "            nn.Linear(hidden_dim, 1),\n",
    "        )\n",
    "    \n",
    "    def forward(self, x):\n",
    "        x = self.embedding(x)\n",
    "        x = self.fc(x)\n",
    "        return x"
   ]
  },
  {
   "cell_type": "code",
   "execution_count": 10,
   "metadata": {},
   "outputs": [
    {
     "ename": "IndexError",
     "evalue": "arrays used as indices must be of integer (or boolean) type",
     "output_type": "error",
     "traceback": [
      "\u001b[0;31m---------------------------------------------------------------------------\u001b[0m",
      "\u001b[0;31mIndexError\u001b[0m                                Traceback (most recent call last)",
      "Cell \u001b[0;32mIn[10], line 9\u001b[0m\n\u001b[1;32m      7\u001b[0m \u001b[38;5;66;03m# Create a NumPy array for character-to-index mapping (assuming 0 for padding)\u001b[39;00m\n\u001b[1;32m      8\u001b[0m char_to_index \u001b[38;5;241m=\u001b[39m np\u001b[38;5;241m.\u001b[39mzeros(\u001b[38;5;241m256\u001b[39m, dtype\u001b[38;5;241m=\u001b[39m\u001b[38;5;28mint\u001b[39m)  \u001b[38;5;66;03m# Assuming character codes fit within 0-255 (or adjust based on character set)\u001b[39;00m\n\u001b[0;32m----> 9\u001b[0m \u001b[43mchar_to_index\u001b[49m\u001b[43m[\u001b[49m\u001b[43munique_chars\u001b[49m\u001b[43m]\u001b[49m \u001b[38;5;241m=\u001b[39m np\u001b[38;5;241m.\u001b[39marange(\u001b[38;5;28mlen\u001b[39m(unique_chars))  \u001b[38;5;66;03m# Map character codes to indices\u001b[39;00m\n\u001b[1;32m     11\u001b[0m \u001b[38;5;66;03m# Max length of prompt\u001b[39;00m\n\u001b[1;32m     12\u001b[0m max_length \u001b[38;5;241m=\u001b[39m \u001b[38;5;28mmax\u001b[39m(\u001b[38;5;28mlen\u001b[39m(text) \u001b[38;5;28;01mfor\u001b[39;00m text \u001b[38;5;129;01min\u001b[39;00m df[\u001b[38;5;124m'\u001b[39m\u001b[38;5;124mPrompt\u001b[39m\u001b[38;5;124m'\u001b[39m])\n",
      "\u001b[0;31mIndexError\u001b[0m: arrays used as indices must be of integer (or boolean) type"
     ]
    }
   ],
   "source": [
    "# using numpy - attempt to tokenize failed due to memory contraints\n",
    "\n",
    "# get all characters in the dataset\n",
    "all_chars = \"\".join(df['Prompt'].values)\n",
    "\n",
    "# find all unique characters\n",
    "unique_chars = np.unique(list(all_chars).sort())\n",
    "\n",
    "char_to_index = np.zeros(256, dtype=int)\n",
    "# map character codes to indicies\n",
    "char_to_index[unique_chars] = np.arange(len(unique_chars)) \n",
    "\n",
    "# max prompt length\n",
    "max_length = max(len(text) for text in df['Prompt'])\n",
    "\n",
    "# creat numpy array initializing with zeros for padding\n",
    "encoded_texts = np.zeros((len(df), max_length), dtype=int)\n",
    "\n",
    "# for each prompt, encode characters using numpy vectorized operations\n",
    "for i, text in enumerate(df['Prompt']):\n",
    "    char_indices = np.array([char_to_index[ord(char)] for char in text], dtype=int)\n",
    "    encoded_texts[i, :len(char_indices)] = char_indices\n",
    "\n"
   ]
  },
  {
   "cell_type": "code",
   "execution_count": null,
   "metadata": {},
   "outputs": [],
   "source": [
    "# convert dataframe columns to tensors\n",
    "X = torch.tensor(df['Prompt'].values)\n",
    "y = torch.tensor(df['Conversation Length'].values)\n",
    "\n",
    "# train test split\n",
    "X_train, X_test, y_train, y_test = train_test_split(X, y, test_size=0.25, random_state=42)\n",
    "\n",
    "# hyperparameters\n",
    "vocab_size = len(char_to_index)\n",
    "embed_dim = 8\n",
    "hidden_dim = 16\n",
    "model = Model(vocab_size, embed_dim, hidden_dim)\n",
    "\n",
    "# loss and optimizer\n",
    "loss_function = nn.MSELoss()\n",
    "optimizer = optim.Adam(model.parameters(), lr=0.001)\n",
    "\n",
    "# training loop\n",
    "epochs = 10\n",
    "for epoch in range(epochs):\n",
    "    model.train()\n",
    "    optimizer.zero_grad()\n",
    "    outputs = model(X_train).squeeze()\n",
    "    loss = loss_function(outputs, y_train)\n",
    "    loss.backward()\n",
    "    optimizer.step()\n",
    "    print(f\"Epoch {epoch + 1}/{epochs}, Loss: {loss.item()}\")\n",
    "\n",
    "# error evaluation\n",
    "model.eval()\n",
    "predictions = model(X_test).squeeze()\n",
    "mse = loss_function(predictions, y_test)\n",
    "print(f\"Test MSE: {mse.item()}\")"
   ]
  },
  {
   "cell_type": "code",
   "execution_count": null,
   "metadata": {},
   "outputs": [],
   "source": []
  }
 ],
 "metadata": {
  "kernelspec": {
   "display_name": ".venv",
   "language": "python",
   "name": "python3"
  },
  "language_info": {
   "codemirror_mode": {
    "name": "ipython",
    "version": 3
   },
   "file_extension": ".py",
   "mimetype": "text/x-python",
   "name": "python",
   "nbconvert_exporter": "python",
   "pygments_lexer": "ipython3",
   "version": "3.12.7"
  }
 },
 "nbformat": 4,
 "nbformat_minor": 2
}
